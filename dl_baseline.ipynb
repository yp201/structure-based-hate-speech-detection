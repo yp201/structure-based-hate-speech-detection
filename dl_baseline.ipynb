{
 "cells": [
  {
   "cell_type": "code",
   "execution_count": 6,
   "metadata": {
    "collapsed": true
   },
   "outputs": [],
   "source": [
    "import pandas as pd\n",
    "import numpy as np\n",
    "import torch\n",
    "import re\n",
    "import tqdm\n",
    "\n",
    "\n",
    "from torchtext.data import Field\n",
    "from torchtext.data import TabularDataset\n",
    "from torchtext.data import Iterator, BucketIterator\n",
    "\n",
    "from nltk import tokenize\n",
    "from nltk.corpus import stopwords\n",
    "from nltk.tokenize import word_tokenize "
   ]
  },
  {
   "cell_type": "code",
   "execution_count": 7,
   "metadata": {
    "collapsed": true
   },
   "outputs": [],
   "source": [
    "device = torch.device('cuda' if torch.cuda.is_available() else 'cpu')\n"
   ]
  },
  {
   "cell_type": "markdown",
   "metadata": {},
   "source": [
    "## Dataset"
   ]
  },
  {
   "cell_type": "code",
   "execution_count": 8,
   "metadata": {
    "collapsed": true
   },
   "outputs": [],
   "source": [
    "dataset=pd.read_csv('data/final_data.csv')"
   ]
  },
  {
   "cell_type": "code",
   "execution_count": 9,
   "metadata": {},
   "outputs": [
    {
     "data": {
      "text/html": [
       "<div>\n",
       "<style>\n",
       "    .dataframe thead tr:only-child th {\n",
       "        text-align: right;\n",
       "    }\n",
       "\n",
       "    .dataframe thead th {\n",
       "        text-align: left;\n",
       "    }\n",
       "\n",
       "    .dataframe tbody tr th {\n",
       "        vertical-align: top;\n",
       "    }\n",
       "</style>\n",
       "<table border=\"1\" class=\"dataframe\">\n",
       "  <thead>\n",
       "    <tr style=\"text-align: right;\">\n",
       "      <th></th>\n",
       "      <th>Unnamed: 0</th>\n",
       "      <th>id</th>\n",
       "      <th>count</th>\n",
       "      <th>hate_speech</th>\n",
       "      <th>offensive_language</th>\n",
       "      <th>neither</th>\n",
       "      <th>class</th>\n",
       "      <th>tweet</th>\n",
       "    </tr>\n",
       "  </thead>\n",
       "  <tbody>\n",
       "    <tr>\n",
       "      <th>0</th>\n",
       "      <td>0</td>\n",
       "      <td>0</td>\n",
       "      <td>3</td>\n",
       "      <td>0</td>\n",
       "      <td>0</td>\n",
       "      <td>1</td>\n",
       "      <td>2</td>\n",
       "      <td>!!! RT @mayasolovely: As a woman you shouldn't...</td>\n",
       "    </tr>\n",
       "    <tr>\n",
       "      <th>1</th>\n",
       "      <td>1</td>\n",
       "      <td>1</td>\n",
       "      <td>3</td>\n",
       "      <td>0</td>\n",
       "      <td>1</td>\n",
       "      <td>0</td>\n",
       "      <td>1</td>\n",
       "      <td>!!!!! RT @mleew17: boy dats cold...tyga dwn ba...</td>\n",
       "    </tr>\n",
       "    <tr>\n",
       "      <th>2</th>\n",
       "      <td>2</td>\n",
       "      <td>2</td>\n",
       "      <td>3</td>\n",
       "      <td>0</td>\n",
       "      <td>1</td>\n",
       "      <td>0</td>\n",
       "      <td>1</td>\n",
       "      <td>!!!!!!! RT @UrKindOfBrand Dawg!!!! RT @80sbaby...</td>\n",
       "    </tr>\n",
       "    <tr>\n",
       "      <th>3</th>\n",
       "      <td>3</td>\n",
       "      <td>3</td>\n",
       "      <td>3</td>\n",
       "      <td>0</td>\n",
       "      <td>1</td>\n",
       "      <td>0</td>\n",
       "      <td>1</td>\n",
       "      <td>!!!!!!!!! RT @C_G_Anderson: @viva_based she lo...</td>\n",
       "    </tr>\n",
       "    <tr>\n",
       "      <th>4</th>\n",
       "      <td>4</td>\n",
       "      <td>4</td>\n",
       "      <td>6</td>\n",
       "      <td>0</td>\n",
       "      <td>1</td>\n",
       "      <td>0</td>\n",
       "      <td>1</td>\n",
       "      <td>!!!!!!!!!!!!! RT @ShenikaRoberts: The shit you...</td>\n",
       "    </tr>\n",
       "  </tbody>\n",
       "</table>\n",
       "</div>"
      ],
      "text/plain": [
       "   Unnamed: 0  id  count  hate_speech  offensive_language  neither  class  \\\n",
       "0           0   0      3            0                   0        1      2   \n",
       "1           1   1      3            0                   1        0      1   \n",
       "2           2   2      3            0                   1        0      1   \n",
       "3           3   3      3            0                   1        0      1   \n",
       "4           4   4      6            0                   1        0      1   \n",
       "\n",
       "                                               tweet  \n",
       "0  !!! RT @mayasolovely: As a woman you shouldn't...  \n",
       "1  !!!!! RT @mleew17: boy dats cold...tyga dwn ba...  \n",
       "2  !!!!!!! RT @UrKindOfBrand Dawg!!!! RT @80sbaby...  \n",
       "3  !!!!!!!!! RT @C_G_Anderson: @viva_based she lo...  \n",
       "4  !!!!!!!!!!!!! RT @ShenikaRoberts: The shit you...  "
      ]
     },
     "execution_count": 9,
     "metadata": {},
     "output_type": "execute_result"
    }
   ],
   "source": [
    "dataset.head()"
   ]
  },
  {
   "cell_type": "code",
   "execution_count": 10,
   "metadata": {
    "collapsed": true
   },
   "outputs": [],
   "source": [
    "stop_words= set(stopwords.words('english'))"
   ]
  },
  {
   "cell_type": "markdown",
   "metadata": {},
   "source": [
    "# Cleaning tweets"
   ]
  },
  {
   "cell_type": "code",
   "execution_count": 11,
   "metadata": {
    "collapsed": true
   },
   "outputs": [],
   "source": [
    "\n",
    "def clean_tweet(tweet):\n",
    "    tweet = re.sub(\"#\", \"\",tweet) # Removing '#' from hashtags\n",
    "    tweet = re.sub(\"[^a-zA-Z#]\", \" \",tweet) # Removing punctuation and special characters\n",
    "    tweet = re.sub(r'http[s]?://(?:[a-z]|[0-9]|[$-_@.&amp;+]|[!*\\(\\),]|(?:%[0-9a-f][0-9a-f]))+',\"<URL>\", tweet)\n",
    "    tweet = re.sub('http','',tweet)\n",
    "    tweet = re.sub(\" +\", \" \", tweet)\n",
    "    tweet = tweet.lower()\n",
    "    tweet = word_tokenize(tweet)\n",
    "    return tweet\n",
    "    return_tweet=[]\n",
    "    for word in tweet:\n",
    "        if word not in stop_words:\n",
    "            return_tweet.append(word)\n",
    "    return return_tweet"
   ]
  },
  {
   "cell_type": "code",
   "execution_count": 12,
   "metadata": {
    "collapsed": true
   },
   "outputs": [],
   "source": [
    "TEXT = Field(sequential=True, tokenize=clean_tweet, lower=True)\n",
    "LABEL = Field(sequential=False, use_vocab=False)\n"
   ]
  },
  {
   "cell_type": "markdown",
   "metadata": {},
   "source": [
    "# Building iterator for dataset"
   ]
  },
  {
   "cell_type": "code",
   "execution_count": 13,
   "metadata": {
    "collapsed": true
   },
   "outputs": [],
   "source": [
    "dataset_datafields = [(\"\",None),(\"id\",None),(\"count\", None),\n",
    "                      (\"hate_speech\", LABEL),(\"offensive_language\", LABEL),\n",
    "                      (\"neither\", LABEL),(\"label\", None),(\"tweet\",TEXT)\n",
    "                    ]\n",
    "\n",
    "data = TabularDataset(\n",
    "        path=\"data/final_data.csv\", # the root directory where the data lies\n",
    "        format='csv',\n",
    "        skip_header=True, # if your csv header has a header, make sure to pass this to ensure it doesn't get proceesed as data!\n",
    "        fields=dataset_datafields)\n",
    "train,test,valid=data.split([0.8,0.1,0.1])"
   ]
  },
  {
   "cell_type": "code",
   "execution_count": 14,
   "metadata": {
    "collapsed": true
   },
   "outputs": [],
   "source": [
    "TEXT.build_vocab(train)\n"
   ]
  },
  {
   "cell_type": "code",
   "execution_count": 15,
   "metadata": {
    "collapsed": true
   },
   "outputs": [],
   "source": [
    "\n",
    "train_iter, val_iter = BucketIterator.splits(\n",
    "        (train, valid), # we pass in the datasets we want the iterator to draw data from\n",
    "        batch_sizes=(64, 64),\n",
    "        device=device, # if you want to use the GPU, specify the GPU number here\n",
    "        sort_key=lambda x: len(x.tweet), # the BucketIterator needs to be told what function it should use to group the data.\n",
    "        sort_within_batch=False,\n",
    "        repeat=False # we pass repeat=False because we want to wrap this Iterator layer.\n",
    ")\n",
    "test_iter = Iterator(test, batch_size=64, device=device, sort=False, sort_within_batch=False, repeat=False)"
   ]
  },
  {
   "cell_type": "code",
   "execution_count": 16,
   "metadata": {
    "collapsed": true
   },
   "outputs": [],
   "source": [
    "class BatchWrapper:\n",
    "    def __init__(self, dl, x_var, y_vars):\n",
    "        self.dl, self.x_var, self.y_vars = dl, x_var, y_vars # we pass in the list of attributes for x and y\n",
    "\n",
    "    \n",
    "    def __iter__(self):\n",
    "        for batch in self.dl:\n",
    "            x = getattr(batch, self.x_var) # we assume only one input in this wrapper\n",
    "            if self.y_vars is not None: # we will concatenate y into a single tensor\n",
    "                y = torch.cat([getattr(batch, feat).unsqueeze(1) for feat in self.y_vars], dim=1).float()\n",
    "            else:\n",
    "                y = torch.zeros((1))\n",
    "\n",
    "            yield (x, y)\n",
    "    \n",
    "    def __len__(self):\n",
    "        return len(self.dl)"
   ]
  },
  {
   "cell_type": "code",
   "execution_count": 17,
   "metadata": {
    "collapsed": true
   },
   "outputs": [],
   "source": [
    "\n",
    "train_dl = BatchWrapper(train_iter, \"tweet\", [\"hate_speech\",\"offensive_language\",\"neither\"])\n",
    "test_dl = BatchWrapper(test_iter, \"tweet\", [\"hate_speech\",\"offensive_language\",\"neither\"])\n",
    "val_dl = BatchWrapper(val_iter, \"tweet\", [\"hate_speech\",\"offensive_language\",\"neither\"])\n"
   ]
  },
  {
   "cell_type": "markdown",
   "metadata": {},
   "source": [
    "# MODEL"
   ]
  },
  {
   "cell_type": "code",
   "execution_count": 18,
   "metadata": {
    "collapsed": true
   },
   "outputs": [],
   "source": [
    "import torch.nn as nn\n",
    "import torch.nn.functional as F\n",
    "import torch.optim as optim\n",
    "from torch.autograd import Variable"
   ]
  },
  {
   "cell_type": "code",
   "execution_count": 19,
   "metadata": {
    "collapsed": true
   },
   "outputs": [],
   "source": [
    "class SimpleBiLSTMBaseline(nn.Module):\n",
    "    def __init__(self, hidden_dim, emb_dim=300,\n",
    "                 spatial_dropout=0.05, recurrent_dropout=0.1, num_linear=1):\n",
    "        super().__init__() # don't forget to call this!\n",
    "        self.embedding = nn.Embedding(len(TEXT.vocab), emb_dim)\n",
    "        self.encoder = nn.LSTM(emb_dim, hidden_dim, num_layers=1, dropout=recurrent_dropout)\n",
    "        self.linear_layers = []\n",
    "        for _ in range(num_linear - 1):\n",
    "            self.linear_layers.append(nn.Linear(hidden_dim, hidden_dim))\n",
    "        self.linear_layers = nn.ModuleList(self.linear_layers)\n",
    "        self.predictor = nn.Linear(hidden_dim, 3)\n",
    "    \n",
    "    def forward(self, seq):\n",
    "        hdn, _ = self.encoder(self.embedding(seq))\n",
    "        feature = hdn[-1, :, :]\n",
    "        for layer in self.linear_layers:\n",
    "            feature = layer(feature)\n",
    "        preds = self.predictor(feature)\n",
    "        return preds"
   ]
  },
  {
   "cell_type": "code",
   "execution_count": 21,
   "metadata": {},
   "outputs": [
    {
     "name": "stderr",
     "output_type": "stream",
     "text": [
      "/home/lakshmeesravya/anaconda3/lib/python3.6/site-packages/torch/nn/modules/rnn.py:54: UserWarning: dropout option adds dropout after all but last recurrent layer, so non-zero dropout expects num_layers greater than 1, but got dropout=0.1 and num_layers=1\n",
      "  \"num_layers={}\".format(dropout, num_layers))\n"
     ]
    },
    {
     "data": {
      "text/plain": [
       "SimpleBiLSTMBaseline(\n",
       "  (embedding): Embedding(30523, 200)\n",
       "  (encoder): LSTM(200, 500, dropout=0.1)\n",
       "  (linear_layers): ModuleList()\n",
       "  (predictor): Linear(in_features=500, out_features=3, bias=True)\n",
       ")"
      ]
     },
     "execution_count": 21,
     "metadata": {},
     "output_type": "execute_result"
    }
   ],
   "source": [
    "em_sz = 200\n",
    "nh = 500\n",
    "nl = 5\n",
    "model = SimpleBiLSTMBaseline(nh, emb_dim=em_sz)\n",
    "# model = model.cuda()\n",
    "model"
   ]
  },
  {
   "cell_type": "code",
   "execution_count": 22,
   "metadata": {
    "collapsed": true
   },
   "outputs": [],
   "source": [
    "opt = optim.Adam(model.parameters(), lr=1e-2)\n",
    "loss_func = nn.BCEWithLogitsLoss()\n",
    "epochs=10"
   ]
  },
  {
   "cell_type": "code",
   "execution_count": 23,
   "metadata": {
    "scrolled": true
   },
   "outputs": [
    {
     "name": "stderr",
     "output_type": "stream",
     "text": [
      "100%|██████████| 310/310 [30:01<00:00,  6.13s/it]\n",
      "  0%|          | 0/310 [00:00<?, ?it/s]"
     ]
    },
    {
     "name": "stdout",
     "output_type": "stream",
     "text": [
      "Epoch: 1, Training Loss: 0.1934, Validation Loss: 0.0981\n"
     ]
    },
    {
     "name": "stderr",
     "output_type": "stream",
     "text": [
      "100%|██████████| 310/310 [29:22<00:00,  5.30s/it]\n",
      "  0%|          | 0/310 [00:00<?, ?it/s]"
     ]
    },
    {
     "name": "stdout",
     "output_type": "stream",
     "text": [
      "Epoch: 2, Training Loss: 0.1909, Validation Loss: 0.0986\n"
     ]
    },
    {
     "name": "stderr",
     "output_type": "stream",
     "text": [
      "100%|██████████| 310/310 [28:45<00:00,  8.29s/it]\n",
      "  0%|          | 0/310 [00:00<?, ?it/s]"
     ]
    },
    {
     "name": "stdout",
     "output_type": "stream",
     "text": [
      "Epoch: 3, Training Loss: 0.1912, Validation Loss: 0.1253\n"
     ]
    },
    {
     "name": "stderr",
     "output_type": "stream",
     "text": [
      "100%|██████████| 310/310 [33:04<00:00,  2.87s/it]\n",
      "  0%|          | 0/310 [00:00<?, ?it/s]"
     ]
    },
    {
     "name": "stdout",
     "output_type": "stream",
     "text": [
      "Epoch: 4, Training Loss: 0.1907, Validation Loss: 0.1001\n"
     ]
    },
    {
     "name": "stderr",
     "output_type": "stream",
     "text": [
      "100%|██████████| 310/310 [10:37<00:00,  1.72s/it]\n",
      "  0%|          | 0/310 [00:00<?, ?it/s]"
     ]
    },
    {
     "name": "stdout",
     "output_type": "stream",
     "text": [
      "Epoch: 5, Training Loss: 0.1728, Validation Loss: 0.0864\n"
     ]
    },
    {
     "name": "stderr",
     "output_type": "stream",
     "text": [
      "100%|██████████| 310/310 [09:19<00:00,  1.99s/it]\n",
      "  0%|          | 0/310 [00:00<?, ?it/s]"
     ]
    },
    {
     "name": "stdout",
     "output_type": "stream",
     "text": [
      "Epoch: 6, Training Loss: 0.1207, Validation Loss: 0.0831\n"
     ]
    },
    {
     "name": "stderr",
     "output_type": "stream",
     "text": [
      "100%|██████████| 310/310 [10:46<00:00,  2.49s/it]\n",
      "  0%|          | 0/310 [00:00<?, ?it/s]"
     ]
    },
    {
     "name": "stdout",
     "output_type": "stream",
     "text": [
      "Epoch: 7, Training Loss: 0.1012, Validation Loss: 0.0743\n"
     ]
    },
    {
     "name": "stderr",
     "output_type": "stream",
     "text": [
      "100%|██████████| 310/310 [12:44<00:00,  2.38s/it]\n",
      "  0%|          | 0/310 [00:00<?, ?it/s]"
     ]
    },
    {
     "name": "stdout",
     "output_type": "stream",
     "text": [
      "Epoch: 8, Training Loss: 0.0970, Validation Loss: 0.0857\n"
     ]
    },
    {
     "name": "stderr",
     "output_type": "stream",
     "text": [
      "100%|██████████| 310/310 [15:06<00:00,  4.44s/it]\n",
      "  0%|          | 0/310 [00:00<?, ?it/s]"
     ]
    },
    {
     "name": "stdout",
     "output_type": "stream",
     "text": [
      "Epoch: 9, Training Loss: 0.0983, Validation Loss: 0.0820\n"
     ]
    },
    {
     "name": "stderr",
     "output_type": "stream",
     "text": [
      "100%|██████████| 310/310 [23:05<00:00,  4.12s/it]\n"
     ]
    },
    {
     "name": "stdout",
     "output_type": "stream",
     "text": [
      "Epoch: 10, Training Loss: 0.0904, Validation Loss: 0.0944\n"
     ]
    }
   ],
   "source": [
    "training_losses=[]\n",
    "validation_losses=[]\n",
    "for epoch in range(1, epochs + 1):\n",
    "    running_loss = 0.0\n",
    "    running_corrects = 0\n",
    "    model.train() # turn on training mode\n",
    "    for x,y in tqdm.tqdm(train_dl): # thanks to our wrapper, we can intuitively iterate over our data!\n",
    "        opt.zero_grad()\n",
    "        \n",
    "        preds = model(x)\n",
    "        loss = loss_func(preds, y)\n",
    "        loss.backward()\n",
    "        opt.step()\n",
    "        \n",
    "        running_loss += loss.data.item() * x.size(0)\n",
    "        \n",
    "    epoch_loss = running_loss / len(train)\n",
    "    \n",
    "    # calculate the validation loss for this epoch\n",
    "    val_loss = 0.0\n",
    "    model.eval() # turn on evaluation mode\n",
    "    for x,y in val_dl:\n",
    "        preds = model(x)\n",
    "        loss = loss_func(preds, y)\n",
    "        val_loss += loss.data.item() * x.size(0)\n",
    "\n",
    "    val_loss /= len(valid)\n",
    "    training_losses.append(epoch_loss)\n",
    "    validation_losses.append(val_loss)\n",
    "    print('Epoch: {}, Training Loss: {:.4f}, Validation Loss: {:.4f}'.format(epoch, epoch_loss, val_loss))"
   ]
  },
  {
   "cell_type": "code",
   "execution_count": 24,
   "metadata": {},
   "outputs": [
    {
     "name": "stderr",
     "output_type": "stream",
     "text": [
      "/home/lakshmeesravya/anaconda3/lib/python3.6/site-packages/torch/serialization.py:256: UserWarning: Couldn't retrieve source code for container of type SimpleBiLSTMBaseline. It won't be checked for correctness upon loading.\n",
      "  \"type \" + obj.__name__ + \". It won't be checked \"\n"
     ]
    }
   ],
   "source": [
    "torch.save(model, './lstm_model.pt')"
   ]
  },
  {
   "cell_type": "code",
   "execution_count": null,
   "metadata": {
    "collapsed": true
   },
   "outputs": [],
   "source": [
    "model = torch.load('./lstm_model.pt')\n",
    "model.eval()"
   ]
  },
  {
   "cell_type": "markdown",
   "metadata": {},
   "source": [
    "# Results"
   ]
  },
  {
   "cell_type": "code",
   "execution_count": 33,
   "metadata": {
    "collapsed": true
   },
   "outputs": [],
   "source": [
    "import matplotlib.pyplot as plt\n",
    "from sklearn.metrics import f1_score\n",
    "from sklearn.metrics import recall_score\n",
    "from sklearn.metrics import precision_score\n",
    "from sklearn.metrics import precision_recall_curve"
   ]
  },
  {
   "cell_type": "code",
   "execution_count": 26,
   "metadata": {
    "collapsed": true
   },
   "outputs": [],
   "source": [
    "accuracy=0\n",
    "count=0\n",
    "y_pred=[]\n",
    "y_actual=[]\n",
    "y_test = []\n",
    "y_score = []\n",
    "for x,y in test_dl:\n",
    "    \n",
    "    preds = model(x)\n",
    "    preds = F.softmax(preds,1)\n",
    "    for idx,p in enumerate(preds):\n",
    "        y_score.append(p.tolist())\n",
    "        curr_pred=np.round(p.detach().tolist())\n",
    "        curr_gt=np.round(y[idx].tolist())\n",
    "        y_test.append(y[idx].tolist())\n",
    "        y_pred.append(np.argmax(curr_pred))\n",
    "        y_actual.append(np.argmax(curr_gt))\n",
    "        if np.array_equal(curr_pred,curr_gt):\n",
    "            accuracy+=1\n",
    "        count+=1\n"
   ]
  },
  {
   "cell_type": "code",
   "execution_count": 27,
   "metadata": {
    "collapsed": true
   },
   "outputs": [],
   "source": [
    "y_test = np.array(y_test)\n",
    "y_score = np.array(y_score)"
   ]
  },
  {
   "cell_type": "markdown",
   "metadata": {},
   "source": [
    "### Results on test set"
   ]
  },
  {
   "cell_type": "code",
   "execution_count": 28,
   "metadata": {},
   "outputs": [
    {
     "name": "stdout",
     "output_type": "stream",
     "text": [
      "F1 Score:  0.8610480032271078\n",
      "Precision Score:  0.8610480032271077\n",
      "Recall Score:  0.8610480032271077\n",
      "Accuracy:  0.8786446147640177\n"
     ]
    }
   ],
   "source": [
    "f = f1_score(y_actual, y_pred, average='micro')\n",
    "print(\"F1 Score: \", f)\n",
    "p = precision_score(y_actual, y_pred, average='micro')\n",
    "print(\"Precision Score: \", p)\n",
    "r = recall_score(y_actual, y_pred, average='micro')\n",
    "print(\"Recall Score: \", r)\n",
    "print(\"Accuracy: \", accuracy/count)"
   ]
  },
  {
   "cell_type": "markdown",
   "metadata": {},
   "source": [
    "### Training and validation loss with epoch"
   ]
  },
  {
   "cell_type": "code",
   "execution_count": 31,
   "metadata": {},
   "outputs": [
    {
     "data": {
      "image/png": "iVBORw0KGgoAAAANSUhEUgAAAX0AAAD8CAYAAACb4nSYAAAABHNCSVQICAgIfAhkiAAAAAlwSFlz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\nnIsQL33nnIsQL33nnIuQ/wI7Ya7slqJApgAAAABJRU5ErkJggg==\n",
      "text/plain": [
       "<Figure size 432x288 with 1 Axes>"
      ]
     },
     "metadata": {},
     "output_type": "display_data"
    }
   ],
   "source": [
    "plt.plot(training_losses,label=\"training loss\")\n",
    "plt.plot(validation_losses,label=\"validation loss\")\n",
    "plt.legend()\n",
    "plt.show()"
   ]
  },
  {
   "cell_type": "code",
   "execution_count": 34,
   "metadata": {},
   "outputs": [
    {
     "data": {
      "image/png": "iVBORw0KGgoAAAANSUhEUgAAAYUAAAEWCAYAAACJ0YulAAAABHNCSVQICAgIfAhkiAAAAAlwSFlz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\nLMdFwczMclwUzMwsx0XBzMxy/g+5URBL+pjqQwAAAABJRU5ErkJggg==\n",
      "text/plain": [
       "<Figure size 432x288 with 1 Axes>"
      ]
     },
     "metadata": {},
     "output_type": "display_data"
    }
   ],
   "source": [
    "precision = dict()\n",
    "recall = dict()\n",
    "for i in range(3):\n",
    "    precision[i], recall[i], _ = precision_recall_curve(y_test[:, i],\n",
    "                                                        y_score[:, i])\n",
    "    plt.plot(recall[i], precision[i], lw=2, label='class {}'.format(i))\n",
    "\n",
    "plt.xlabel(\"Recall\")\n",
    "plt.ylabel(\"Precision\")\n",
    "plt.legend(loc = \"best\")\n",
    "plt.title(\"Precision vs. Recall curve\")\n",
    "plt.show()"
   ]
  },
  {
   "cell_type": "code",
<<<<<<< HEAD
   "execution_count": 49,
   "metadata": {},
   "outputs": [
    {
     "name": "stdout",
     "output_type": "stream",
     "text": [
      "tensor([[  84,    5,   48,  ...,   35,  309,    0],\n",
      "        [   9,    0,    2,  ...,   45, 2988,  147],\n",
      "        [ 545,   35,  105,  ...,   32,  309,   73],\n",
      "        ...,\n",
      "        [   1,   57,    1,  ...,    1,   62,    1],\n",
      "        [   1, 3175,    1,  ...,    1,   20,    1],\n",
      "        [   1,    0,    1,  ...,    1,   17,    1]], device='cuda:0') tensor([[0., 1., 0.],\n",
      "        [0., 1., 0.],\n",
      "        [0., 1., 0.],\n",
      "        [0., 1., 0.],\n",
      "        [0., 1., 0.],\n",
      "        [0., 1., 0.],\n",
      "        [0., 1., 0.],\n",
      "        [0., 1., 0.],\n",
      "        [0., 1., 0.],\n",
      "        [0., 1., 0.],\n",
      "        [0., 1., 0.],\n",
      "        [0., 1., 0.],\n",
      "        [0., 1., 0.],\n",
      "        [0., 1., 0.],\n",
      "        [0., 1., 0.],\n",
      "        [0., 1., 0.],\n",
      "        [0., 1., 0.],\n",
      "        [1., 0., 0.],\n",
      "        [0., 0., 1.],\n",
      "        [0., 1., 0.],\n",
      "        [1., 0., 0.],\n",
      "        [0., 1., 0.],\n",
      "        [0., 1., 0.],\n",
      "        [0., 0., 1.],\n",
      "        [0., 0., 1.],\n",
      "        [0., 0., 1.],\n",
      "        [0., 1., 0.],\n",
      "        [0., 1., 0.],\n",
      "        [0., 1., 0.],\n",
      "        [0., 1., 0.],\n",
      "        [0., 1., 0.],\n",
      "        [0., 1., 0.],\n",
      "        [0., 1., 0.],\n",
      "        [0., 1., 0.],\n",
      "        [0., 1., 0.],\n",
      "        [0., 1., 0.],\n",
      "        [0., 1., 0.],\n",
      "        [0., 1., 0.],\n",
      "        [0., 1., 0.],\n",
      "        [0., 0., 1.],\n",
      "        [1., 0., 0.],\n",
      "        [0., 1., 0.],\n",
      "        [0., 1., 0.],\n",
      "        [1., 0., 0.],\n",
      "        [0., 1., 0.],\n",
      "        [0., 1., 0.],\n",
      "        [0., 1., 0.],\n",
      "        [0., 1., 0.],\n",
      "        [0., 0., 1.],\n",
      "        [0., 1., 0.],\n",
      "        [0., 1., 0.],\n",
      "        [0., 1., 0.],\n",
      "        [0., 0., 1.],\n",
      "        [0., 1., 0.],\n",
      "        [0., 0., 1.],\n",
      "        [0., 1., 0.],\n",
      "        [0., 1., 0.],\n",
      "        [0., 1., 0.],\n",
      "        [1., 0., 0.],\n",
      "        [0., 1., 0.],\n",
      "        [0., 1., 0.],\n",
      "        [0., 1., 0.],\n",
      "        [0., 1., 0.],\n",
      "        [0., 1., 0.]], device='cuda:0')\n"
     ]
    }
   ],
   "source": [
    "for x,y in test_dl:\n",
    "    print(x,y)\n",
    "    break"
   ]
=======
   "execution_count": null,
   "metadata": {
    "collapsed": true
   },
   "outputs": [],
   "source": []
>>>>>>> 9e40ebbd85d05d95412bcd2ecaacf8f5cd1b74ce
  },
  {
   "cell_type": "code",
   "execution_count": null,
   "metadata": {
    "collapsed": true
   },
   "outputs": [],
   "source": []
  }
 ],
 "metadata": {
  "kernelspec": {
   "display_name": "Python 3",
   "language": "python",
   "name": "python3"
  },
  "language_info": {
   "codemirror_mode": {
    "name": "ipython",
    "version": 3
   },
   "file_extension": ".py",
   "mimetype": "text/x-python",
   "name": "python",
   "nbconvert_exporter": "python",
   "pygments_lexer": "ipython3",
   "version": "3.6.3"
  }
 },
 "nbformat": 4,
 "nbformat_minor": 2
}
